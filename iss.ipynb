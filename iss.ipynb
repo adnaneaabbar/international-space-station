{
  "nbformat": 4,
  "nbformat_minor": 0,
  "metadata": {
    "language_info": {
      "codemirror_mode": {
        "name": "ipython",
        "version": 3
      },
      "file_extension": ".py",
      "mimetype": "text/x-python",
      "name": "python",
      "nbconvert_exporter": "python",
      "pygments_lexer": "ipython3",
      "version": "3.7.4-final"
    },
    "orig_nbformat": 2,
    "kernelspec": {
      "name": "python37464bit2d2a7b7d88554f6bbdade15fa4e28b95",
      "display_name": "Python 3.7.4 64-bit"
    },
    "colab": {
      "name": "iss.ipynb",
      "provenance": [],
      "toc_visible": true,
      "include_colab_link": true
    }
  },
  "cells": [
    {
      "cell_type": "markdown",
      "metadata": {
        "id": "view-in-github",
        "colab_type": "text"
      },
      "source": [
        "<a href=\"https://colab.research.google.com/github/adnaneaabbar/international-space-station/blob/master/iss.ipynb\" target=\"_parent\"><img src=\"https://colab.research.google.com/assets/colab-badge.svg\" alt=\"Open In Colab\"/></a>"
      ]
    },
    {
      "cell_type": "code",
      "metadata": {
        "id": "tO9SHSZ9R_PR",
        "colab_type": "code",
        "colab": {}
      },
      "source": [
        "#!pip install pytrends\n",
        "from pytrends.request import TrendReq\n",
        "import pandas as pd\n",
        "import numpy as np\n",
        "import matplotlib.pyplot as plt\n",
        "import matplotlib\n",
        "from IPython.display import Image"
      ],
      "execution_count": 1,
      "outputs": []
    },
    {
      "cell_type": "markdown",
      "metadata": {
        "id": "MbppgPtcR_PX",
        "colab_type": "text"
      },
      "source": [
        "# International Space Station Current Location\n",
        "\n",
        "The ISS programme is a joint project between five participating space agencies: NASA (United States), Roscosmos (Russia), JAXA (Japan), ESA (Europe), and CSA (Canada). The ownership and use of the space station is established by intergovernmental treaties and agreements.\n",
        "\n",
        "The ISS serves as a microgravity and space environment research laboratory in which crew members conduct experiments in biology, physics, astronomy, and other fields."
      ]
    },
    {
      "cell_type": "markdown",
      "metadata": {
        "id": "qm4G8bTsR_PX",
        "colab_type": "text"
      },
      "source": [
        "# Who are the astronauts on board right now?\n",
        "\n"
      ]
    },
    {
      "cell_type": "code",
      "metadata": {
        "id": "1bYKvft5R_PY",
        "colab_type": "code",
        "colab": {}
      },
      "source": [
        "import requests\n",
        "import json\n",
        "r = requests.get(url='http://api.open-notify.org/astros.json')\n",
        "#Storing response\n",
        "with open('astros.json', 'w') as outfile:\n",
        "    json.dump(r.json(), outfile)"
      ],
      "execution_count": 2,
      "outputs": []
    },
    {
      "cell_type": "code",
      "metadata": {
        "id": "orTVKSS6R_Pc",
        "colab_type": "code",
        "colab": {
          "base_uri": "https://localhost:8080/",
          "height": 197
        },
        "outputId": "f382d118-327a-49dc-b365-aa37f290e5cd"
      },
      "source": [
        "#Loading response\n",
        "astros_df = pd.read_json('/content/astros.json')\n",
        "astros_df.head()"
      ],
      "execution_count": 3,
      "outputs": [
        {
          "output_type": "execute_result",
          "data": {
            "text/html": [
              "<div>\n",
              "<style scoped>\n",
              "    .dataframe tbody tr th:only-of-type {\n",
              "        vertical-align: middle;\n",
              "    }\n",
              "\n",
              "    .dataframe tbody tr th {\n",
              "        vertical-align: top;\n",
              "    }\n",
              "\n",
              "    .dataframe thead th {\n",
              "        text-align: right;\n",
              "    }\n",
              "</style>\n",
              "<table border=\"1\" class=\"dataframe\">\n",
              "  <thead>\n",
              "    <tr style=\"text-align: right;\">\n",
              "      <th></th>\n",
              "      <th>message</th>\n",
              "      <th>number</th>\n",
              "      <th>people</th>\n",
              "    </tr>\n",
              "  </thead>\n",
              "  <tbody>\n",
              "    <tr>\n",
              "      <th>0</th>\n",
              "      <td>success</td>\n",
              "      <td>5</td>\n",
              "      <td>{'craft': 'ISS', 'name': 'Chris Cassidy'}</td>\n",
              "    </tr>\n",
              "    <tr>\n",
              "      <th>1</th>\n",
              "      <td>success</td>\n",
              "      <td>5</td>\n",
              "      <td>{'craft': 'ISS', 'name': 'Anatoly Ivanishin'}</td>\n",
              "    </tr>\n",
              "    <tr>\n",
              "      <th>2</th>\n",
              "      <td>success</td>\n",
              "      <td>5</td>\n",
              "      <td>{'craft': 'ISS', 'name': 'Ivan Vagner'}</td>\n",
              "    </tr>\n",
              "    <tr>\n",
              "      <th>3</th>\n",
              "      <td>success</td>\n",
              "      <td>5</td>\n",
              "      <td>{'craft': 'ISS', 'name': 'Doug Hurley'}</td>\n",
              "    </tr>\n",
              "    <tr>\n",
              "      <th>4</th>\n",
              "      <td>success</td>\n",
              "      <td>5</td>\n",
              "      <td>{'craft': 'ISS', 'name': 'Bob Behnken'}</td>\n",
              "    </tr>\n",
              "  </tbody>\n",
              "</table>\n",
              "</div>"
            ],
            "text/plain": [
              "   message  number                                         people\n",
              "0  success       5      {'craft': 'ISS', 'name': 'Chris Cassidy'}\n",
              "1  success       5  {'craft': 'ISS', 'name': 'Anatoly Ivanishin'}\n",
              "2  success       5        {'craft': 'ISS', 'name': 'Ivan Vagner'}\n",
              "3  success       5        {'craft': 'ISS', 'name': 'Doug Hurley'}\n",
              "4  success       5        {'craft': 'ISS', 'name': 'Bob Behnken'}"
            ]
          },
          "metadata": {
            "tags": []
          },
          "execution_count": 3
        }
      ]
    },
    {
      "cell_type": "markdown",
      "metadata": {
        "id": "YmmpszHpR_Ph",
        "colab_type": "text"
      },
      "source": [
        "So there are 5 astronauts at the moment in the ISS."
      ]
    },
    {
      "cell_type": "markdown",
      "metadata": {
        "id": "NhjIa6ChR_Pi",
        "colab_type": "text"
      },
      "source": [
        "# Where is the International Space Station right now ?"
      ]
    },
    {
      "cell_type": "code",
      "metadata": {
        "id": "_SSbJ2KhR_Pj",
        "colab_type": "code",
        "colab": {}
      },
      "source": [
        "r = requests.get(url='http://api.open-notify.org/iss-now.json')\n",
        "#Storing response\n",
        "with open('iss-now.json', 'w') as outfile:\n",
        "    json.dump(r.json(), outfile)\n",
        "# Making a copy\n",
        "location = r.json()"
      ],
      "execution_count": 4,
      "outputs": []
    },
    {
      "cell_type": "code",
      "metadata": {
        "id": "pIyN3o3yR_Pn",
        "colab_type": "code",
        "colab": {
          "base_uri": "https://localhost:8080/",
          "height": 107
        },
        "outputId": "e26f09b4-13b9-438e-8771-0b13ccba3ade"
      },
      "source": [
        "#Loading response\n",
        "location_df = pd.read_json('/content/iss-now.json')\n",
        "location_df.head()"
      ],
      "execution_count": 5,
      "outputs": [
        {
          "output_type": "execute_result",
          "data": {
            "text/html": [
              "<div>\n",
              "<style scoped>\n",
              "    .dataframe tbody tr th:only-of-type {\n",
              "        vertical-align: middle;\n",
              "    }\n",
              "\n",
              "    .dataframe tbody tr th {\n",
              "        vertical-align: top;\n",
              "    }\n",
              "\n",
              "    .dataframe thead th {\n",
              "        text-align: right;\n",
              "    }\n",
              "</style>\n",
              "<table border=\"1\" class=\"dataframe\">\n",
              "  <thead>\n",
              "    <tr style=\"text-align: right;\">\n",
              "      <th></th>\n",
              "      <th>message</th>\n",
              "      <th>iss_position</th>\n",
              "      <th>timestamp</th>\n",
              "    </tr>\n",
              "  </thead>\n",
              "  <tbody>\n",
              "    <tr>\n",
              "      <th>latitude</th>\n",
              "      <td>success</td>\n",
              "      <td>-27.8120</td>\n",
              "      <td>2020-06-29 04:25:11</td>\n",
              "    </tr>\n",
              "    <tr>\n",
              "      <th>longitude</th>\n",
              "      <td>success</td>\n",
              "      <td>149.7638</td>\n",
              "      <td>2020-06-29 04:25:11</td>\n",
              "    </tr>\n",
              "  </tbody>\n",
              "</table>\n",
              "</div>"
            ],
            "text/plain": [
              "           message  iss_position           timestamp\n",
              "latitude   success      -27.8120 2020-06-29 04:25:11\n",
              "longitude  success      149.7638 2020-06-29 04:25:11"
            ]
          },
          "metadata": {
            "tags": []
          },
          "execution_count": 5
        }
      ]
    },
    {
      "cell_type": "markdown",
      "metadata": {
        "id": "WJMLZWt5R_Pr",
        "colab_type": "text"
      },
      "source": [
        "## Let's plot the ISS current location"
      ]
    },
    {
      "cell_type": "code",
      "metadata": {
        "id": "61dEp4MeR_Ps",
        "colab_type": "code",
        "colab": {
          "base_uri": "https://localhost:8080/",
          "height": 52
        },
        "outputId": "45dbdad1-130b-425f-f687-873e1ac786a2"
      },
      "source": [
        "#!apt-get install libproj-dev proj-data proj-bin\n",
        "#!apt-get install libgeos-dev\n",
        "#!pip install cython\n",
        "#!pip install cartopy\n",
        "import cartopy.crs as ccrs\n",
        "\n",
        "# Set the dimension of the figure\n",
        "plt.figure(figsize=(16, 8))\n"
      ],
      "execution_count": 6,
      "outputs": [
        {
          "output_type": "execute_result",
          "data": {
            "text/plain": [
              "<Figure size 1152x576 with 0 Axes>"
            ]
          },
          "metadata": {
            "tags": []
          },
          "execution_count": 6
        },
        {
          "output_type": "display_data",
          "data": {
            "text/plain": [
              "<Figure size 1152x576 with 0 Axes>"
            ]
          },
          "metadata": {
            "tags": []
          }
        }
      ]
    },
    {
      "cell_type": "code",
      "metadata": {
        "id": "bJLDdcDzR_Pw",
        "colab_type": "code",
        "colab": {}
      },
      "source": [
        ""
      ],
      "execution_count": null,
      "outputs": []
    }
  ]
}