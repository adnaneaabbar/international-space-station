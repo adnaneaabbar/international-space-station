{
 "cells": [
  {
   "cell_type": "code",
   "execution_count": 3,
   "metadata": {},
   "outputs": [],
   "source": [
    "from pytrends.request import TrendReq\n",
    "import pandas as pd\n",
    "import numpy as np\n",
    "import matplotlib.pyplot as plt\n",
    "import matplotlib\n",
    "from IPython.display import Image"
   ]
  },
  {
   "cell_type": "markdown",
   "metadata": {},
   "source": [
    "# International Space Station Current Location\n",
    "\n",
    "The ISS programme is a joint project between five participating space agencies: NASA (United States), Roscosmos (Russia), JAXA (Japan), ESA (Europe), and CSA (Canada). The ownership and use of the space station is established by intergovernmental treaties and agreements.\n",
    "\n",
    "The ISS serves as a microgravity and space environment research laboratory in which crew members conduct experiments in biology, physics, astronomy, and other fields."
   ]
  },
  {
   "cell_type": "markdown",
   "metadata": {},
   "source": [
    "# Who are the astronauts on board right now?\n",
    "\n"
   ]
  },
  {
   "cell_type": "code",
   "execution_count": 10,
   "metadata": {},
   "outputs": [],
   "source": [
    "import requests\n",
    "import json\n",
    "r = requests.get(url='http://api.open-notify.org/astros.json')\n",
    "#Storing response\n",
    "with open('astros.json', 'w') as outfile:\n",
    "    json.dump(r.json(), outfile)"
   ]
  },
  {
   "cell_type": "code",
   "execution_count": 11,
   "metadata": {},
   "outputs": [
    {
     "output_type": "execute_result",
     "data": {
      "text/plain": "   message  number                                         people\n0  success       5      {'craft': 'ISS', 'name': 'Chris Cassidy'}\n1  success       5  {'craft': 'ISS', 'name': 'Anatoly Ivanishin'}\n2  success       5        {'craft': 'ISS', 'name': 'Ivan Vagner'}\n3  success       5        {'craft': 'ISS', 'name': 'Doug Hurley'}\n4  success       5        {'craft': 'ISS', 'name': 'Bob Behnken'}",
      "text/html": "<div>\n<style scoped>\n    .dataframe tbody tr th:only-of-type {\n        vertical-align: middle;\n    }\n\n    .dataframe tbody tr th {\n        vertical-align: top;\n    }\n\n    .dataframe thead th {\n        text-align: right;\n    }\n</style>\n<table border=\"1\" class=\"dataframe\">\n  <thead>\n    <tr style=\"text-align: right;\">\n      <th></th>\n      <th>message</th>\n      <th>number</th>\n      <th>people</th>\n    </tr>\n  </thead>\n  <tbody>\n    <tr>\n      <th>0</th>\n      <td>success</td>\n      <td>5</td>\n      <td>{'craft': 'ISS', 'name': 'Chris Cassidy'}</td>\n    </tr>\n    <tr>\n      <th>1</th>\n      <td>success</td>\n      <td>5</td>\n      <td>{'craft': 'ISS', 'name': 'Anatoly Ivanishin'}</td>\n    </tr>\n    <tr>\n      <th>2</th>\n      <td>success</td>\n      <td>5</td>\n      <td>{'craft': 'ISS', 'name': 'Ivan Vagner'}</td>\n    </tr>\n    <tr>\n      <th>3</th>\n      <td>success</td>\n      <td>5</td>\n      <td>{'craft': 'ISS', 'name': 'Doug Hurley'}</td>\n    </tr>\n    <tr>\n      <th>4</th>\n      <td>success</td>\n      <td>5</td>\n      <td>{'craft': 'ISS', 'name': 'Bob Behnken'}</td>\n    </tr>\n  </tbody>\n</table>\n</div>"
     },
     "metadata": {},
     "execution_count": 11
    }
   ],
   "source": [
    "#Loading response\n",
    "astros_df = pd.read_json('C:/Users/aabba/Desktop/workspace/DataScience/international-space-station/astros.json')\n",
    "astros_df.head()"
   ]
  },
  {
   "cell_type": "markdown",
   "metadata": {},
   "source": [
    "So there are 5 astronauts at the moment in the ISS."
   ]
  },
  {
   "cell_type": "markdown",
   "metadata": {},
   "source": [
    "# Where is the International Space Station right now ?"
   ]
  },
  {
   "cell_type": "code",
   "execution_count": 18,
   "metadata": {},
   "outputs": [],
   "source": [
    "r = requests.get(url='http://api.open-notify.org/iss-now.json')\n",
    "#Storing response\n",
    "with open('iss-now.json', 'w') as outfile:\n",
    "    json.dump(r.json(), outfile)\n",
    "# Making a copy\n",
    "location = r.json()"
   ]
  },
  {
   "cell_type": "code",
   "execution_count": 19,
   "metadata": {},
   "outputs": [
    {
     "output_type": "execute_result",
     "data": {
      "text/plain": "           message  iss_position           timestamp\nlatitude   success       40.5454 2020-06-29 02:10:57\nlongitude  success       21.8296 2020-06-29 02:10:57",
      "text/html": "<div>\n<style scoped>\n    .dataframe tbody tr th:only-of-type {\n        vertical-align: middle;\n    }\n\n    .dataframe tbody tr th {\n        vertical-align: top;\n    }\n\n    .dataframe thead th {\n        text-align: right;\n    }\n</style>\n<table border=\"1\" class=\"dataframe\">\n  <thead>\n    <tr style=\"text-align: right;\">\n      <th></th>\n      <th>message</th>\n      <th>iss_position</th>\n      <th>timestamp</th>\n    </tr>\n  </thead>\n  <tbody>\n    <tr>\n      <th>latitude</th>\n      <td>success</td>\n      <td>40.5454</td>\n      <td>2020-06-29 02:10:57</td>\n    </tr>\n    <tr>\n      <th>longitude</th>\n      <td>success</td>\n      <td>21.8296</td>\n      <td>2020-06-29 02:10:57</td>\n    </tr>\n  </tbody>\n</table>\n</div>"
     },
     "metadata": {},
     "execution_count": 19
    }
   ],
   "source": [
    "#Loading response\n",
    "location_df = pd.read_json('C:/Users/aabba/Desktop/workspace/DataScience/international-space-station/iss-now.json')\n",
    "location_df.head()"
   ]
  },
  {
   "cell_type": "markdown",
   "metadata": {},
   "source": [
    "## Let's plot the ISS current location"
   ]
  },
  {
   "cell_type": "code",
   "execution_count": 17,
   "metadata": {},
   "outputs": [
    {
     "output_type": "error",
     "ename": "ModuleNotFoundError",
     "evalue": "No module named 'mpl_toolkits.basemap'",
     "traceback": [
      "\u001b[1;31m---------------------------------------------------------------------------\u001b[0m",
      "\u001b[1;31mModuleNotFoundError\u001b[0m                       Traceback (most recent call last)",
      "\u001b[1;32m<ipython-input-17-2310c8f542d8>\u001b[0m in \u001b[0;36m<module>\u001b[1;34m\u001b[0m\n\u001b[1;32m----> 1\u001b[1;33m \u001b[1;32mfrom\u001b[0m \u001b[0mmpl_toolkits\u001b[0m\u001b[1;33m.\u001b[0m\u001b[0mbasemap\u001b[0m \u001b[1;32mimport\u001b[0m \u001b[0mBasemap\u001b[0m\u001b[1;33m\u001b[0m\u001b[1;33m\u001b[0m\u001b[0m\n\u001b[0m\u001b[0;32m      2\u001b[0m \u001b[1;33m\u001b[0m\u001b[0m\n\u001b[0;32m      3\u001b[0m \u001b[1;31m# Set the dimension of the figure\u001b[0m\u001b[1;33m\u001b[0m\u001b[1;33m\u001b[0m\u001b[1;33m\u001b[0m\u001b[0m\n\u001b[0;32m      4\u001b[0m \u001b[0mplt\u001b[0m\u001b[1;33m.\u001b[0m\u001b[0mfigure\u001b[0m\u001b[1;33m(\u001b[0m\u001b[0mfigsize\u001b[0m\u001b[1;33m=\u001b[0m\u001b[1;33m(\u001b[0m\u001b[1;36m16\u001b[0m\u001b[1;33m,\u001b[0m \u001b[1;36m8\u001b[0m\u001b[1;33m)\u001b[0m\u001b[1;33m)\u001b[0m\u001b[1;33m\u001b[0m\u001b[1;33m\u001b[0m\u001b[0m\n\u001b[0;32m      5\u001b[0m \u001b[1;33m\u001b[0m\u001b[0m\n",
      "\u001b[1;31mModuleNotFoundError\u001b[0m: No module named 'mpl_toolkits.basemap'"
     ]
    }
   ],
   "source": [
    "from mpl_toolkits.basemap import Basemap\n",
    "\n",
    "# Set the dimension of the figure\n",
    "plt.figure(figsize=(16, 8))\n",
    "\n",
    "# Make the background map\n",
    "m=Basemap(llcrnrlon=-180, llcrnrlat=-65,urcrnrlon=180,urcrnrlat=80)\n",
    "m.drawmapboundary(fill_color='#A6CAE0', linewidth=0)\n",
    "m.fillcontinents(color='grey', alpha=0.3)\n",
    "m.drawcoastlines(linewidth=0.1, color=\"white\")\n",
    "\n",
    "\n",
    "m.scatter(float(location['iss_position']['longitude']), \n",
    "          float(location['iss_position']['latitude']), \n",
    "          s=500, alpha=0.4,color='blue')\n",
    "\n",
    " \n",
    "plt.title('International Space Station Location' , fontsize=30) "
   ]
  },
  {
   "cell_type": "code",
   "execution_count": null,
   "metadata": {},
   "outputs": [],
   "source": []
  }
 ],
 "metadata": {
  "language_info": {
   "codemirror_mode": {
    "name": "ipython",
    "version": 3
   },
   "file_extension": ".py",
   "mimetype": "text/x-python",
   "name": "python",
   "nbconvert_exporter": "python",
   "pygments_lexer": "ipython3",
   "version": "3.7.4-final"
  },
  "orig_nbformat": 2,
  "kernelspec": {
   "name": "python37464bit2d2a7b7d88554f6bbdade15fa4e28b95",
   "display_name": "Python 3.7.4 64-bit"
  }
 },
 "nbformat": 4,
 "nbformat_minor": 2
}